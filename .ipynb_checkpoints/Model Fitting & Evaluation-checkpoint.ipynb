{
 "cells": [
  {
   "cell_type": "code",
   "execution_count": 1,
   "id": "c8c81802-61ba-402c-872e-42674f9b0240",
   "metadata": {},
   "outputs": [],
   "source": [
    "import pandas as pd\n",
    "import numpy as np\n",
    "import seaborn as sns\n",
    "import matplotlib.pyplot as plt\n",
    "import warnings\n",
    "warnings.filterwarnings('ignore')\n",
    "import shap\n",
    "from sklearn.pipeline import Pipeline\n",
    "from sklearn.compose import ColumnTransformer\n",
    "from sklearn.preprocessing import OneHotEncoder, OrdinalEncoder\n",
    "from sklearn.impute import SimpleImputer\n",
    "from sklearn.linear_model import LogisticRegression\n",
    "from sklearn.model_selection import train_test_split\n",
    "from sklearn.metrics import accuracy_score, classification_report\n",
    "from sklearn.tree import DecisionTreeClassifier\n",
    "from sklearn.metrics import confusion_matrix, ConfusionMatrixDisplay\n",
    "from sklearn.metrics import f1_score, precision_score, recall_score"
   ]
  },
  {
   "cell_type": "code",
   "execution_count": 2,
   "id": "f719313d-b190-4ea7-8436-cd23948ffe80",
   "metadata": {},
   "outputs": [],
   "source": [
    "df = pd.read_csv(\"data/cleaned_data_eda.csv\")"
   ]
  },
  {
   "cell_type": "code",
   "execution_count": 3,
   "id": "8e636bf4-3dbf-40fe-b521-c69d367b9119",
   "metadata": {},
   "outputs": [
    {
     "data": {
      "text/html": [
       "<div>\n",
       "<style scoped>\n",
       "    .dataframe tbody tr th:only-of-type {\n",
       "        vertical-align: middle;\n",
       "    }\n",
       "\n",
       "    .dataframe tbody tr th {\n",
       "        vertical-align: top;\n",
       "    }\n",
       "\n",
       "    .dataframe thead th {\n",
       "        text-align: right;\n",
       "    }\n",
       "</style>\n",
       "<table border=\"1\" class=\"dataframe\">\n",
       "  <thead>\n",
       "    <tr style=\"text-align: right;\">\n",
       "      <th></th>\n",
       "      <th>Age</th>\n",
       "      <th>Attrition</th>\n",
       "      <th>BusinessTravel</th>\n",
       "      <th>DailyRate</th>\n",
       "      <th>Department</th>\n",
       "      <th>DistanceFromHome</th>\n",
       "      <th>EducationField</th>\n",
       "      <th>Gender</th>\n",
       "      <th>HourlyRate</th>\n",
       "      <th>JobRole</th>\n",
       "      <th>...</th>\n",
       "      <th>OverTime</th>\n",
       "      <th>PercentSalaryHike</th>\n",
       "      <th>TotalWorkingYears</th>\n",
       "      <th>TrainingTimesLastYear</th>\n",
       "      <th>YearsAtCompany</th>\n",
       "      <th>YearsInCurrentRole</th>\n",
       "      <th>YearsSinceLastPromotion</th>\n",
       "      <th>YearsWithCurrManager</th>\n",
       "      <th>AgeBand</th>\n",
       "      <th>CompanyAgeBand</th>\n",
       "    </tr>\n",
       "  </thead>\n",
       "  <tbody>\n",
       "    <tr>\n",
       "      <th>0</th>\n",
       "      <td>41</td>\n",
       "      <td>Yes</td>\n",
       "      <td>Travel_Rarely</td>\n",
       "      <td>1102</td>\n",
       "      <td>Sales</td>\n",
       "      <td>1</td>\n",
       "      <td>Life Sciences</td>\n",
       "      <td>Female</td>\n",
       "      <td>94</td>\n",
       "      <td>Sales Executive</td>\n",
       "      <td>...</td>\n",
       "      <td>Yes</td>\n",
       "      <td>11</td>\n",
       "      <td>8</td>\n",
       "      <td>0</td>\n",
       "      <td>6</td>\n",
       "      <td>4</td>\n",
       "      <td>0</td>\n",
       "      <td>5</td>\n",
       "      <td>41–50</td>\n",
       "      <td>0–10</td>\n",
       "    </tr>\n",
       "    <tr>\n",
       "      <th>1</th>\n",
       "      <td>49</td>\n",
       "      <td>No</td>\n",
       "      <td>Travel_Frequently</td>\n",
       "      <td>279</td>\n",
       "      <td>Research &amp; Development</td>\n",
       "      <td>8</td>\n",
       "      <td>Life Sciences</td>\n",
       "      <td>Male</td>\n",
       "      <td>61</td>\n",
       "      <td>Research Scientist</td>\n",
       "      <td>...</td>\n",
       "      <td>No</td>\n",
       "      <td>23</td>\n",
       "      <td>10</td>\n",
       "      <td>3</td>\n",
       "      <td>10</td>\n",
       "      <td>7</td>\n",
       "      <td>1</td>\n",
       "      <td>7</td>\n",
       "      <td>41–50</td>\n",
       "      <td>0–10</td>\n",
       "    </tr>\n",
       "    <tr>\n",
       "      <th>2</th>\n",
       "      <td>37</td>\n",
       "      <td>Yes</td>\n",
       "      <td>Travel_Rarely</td>\n",
       "      <td>1373</td>\n",
       "      <td>Research &amp; Development</td>\n",
       "      <td>2</td>\n",
       "      <td>Other</td>\n",
       "      <td>Male</td>\n",
       "      <td>92</td>\n",
       "      <td>Laboratory Technician</td>\n",
       "      <td>...</td>\n",
       "      <td>Yes</td>\n",
       "      <td>15</td>\n",
       "      <td>7</td>\n",
       "      <td>3</td>\n",
       "      <td>0</td>\n",
       "      <td>0</td>\n",
       "      <td>0</td>\n",
       "      <td>0</td>\n",
       "      <td>31–40</td>\n",
       "      <td>NaN</td>\n",
       "    </tr>\n",
       "    <tr>\n",
       "      <th>3</th>\n",
       "      <td>33</td>\n",
       "      <td>No</td>\n",
       "      <td>Travel_Frequently</td>\n",
       "      <td>1392</td>\n",
       "      <td>Research &amp; Development</td>\n",
       "      <td>3</td>\n",
       "      <td>Life Sciences</td>\n",
       "      <td>Female</td>\n",
       "      <td>56</td>\n",
       "      <td>Research Scientist</td>\n",
       "      <td>...</td>\n",
       "      <td>Yes</td>\n",
       "      <td>11</td>\n",
       "      <td>8</td>\n",
       "      <td>3</td>\n",
       "      <td>8</td>\n",
       "      <td>7</td>\n",
       "      <td>3</td>\n",
       "      <td>0</td>\n",
       "      <td>31–40</td>\n",
       "      <td>0–10</td>\n",
       "    </tr>\n",
       "    <tr>\n",
       "      <th>4</th>\n",
       "      <td>27</td>\n",
       "      <td>No</td>\n",
       "      <td>Travel_Rarely</td>\n",
       "      <td>591</td>\n",
       "      <td>Research &amp; Development</td>\n",
       "      <td>2</td>\n",
       "      <td>Medical</td>\n",
       "      <td>Male</td>\n",
       "      <td>40</td>\n",
       "      <td>Laboratory Technician</td>\n",
       "      <td>...</td>\n",
       "      <td>No</td>\n",
       "      <td>12</td>\n",
       "      <td>6</td>\n",
       "      <td>3</td>\n",
       "      <td>2</td>\n",
       "      <td>2</td>\n",
       "      <td>2</td>\n",
       "      <td>2</td>\n",
       "      <td>18–30</td>\n",
       "      <td>0–10</td>\n",
       "    </tr>\n",
       "  </tbody>\n",
       "</table>\n",
       "<p>5 rows × 24 columns</p>\n",
       "</div>"
      ],
      "text/plain": [
       "   Age Attrition     BusinessTravel  DailyRate              Department  \\\n",
       "0   41       Yes      Travel_Rarely       1102                   Sales   \n",
       "1   49        No  Travel_Frequently        279  Research & Development   \n",
       "2   37       Yes      Travel_Rarely       1373  Research & Development   \n",
       "3   33        No  Travel_Frequently       1392  Research & Development   \n",
       "4   27        No      Travel_Rarely        591  Research & Development   \n",
       "\n",
       "   DistanceFromHome EducationField  Gender  HourlyRate                JobRole  \\\n",
       "0                 1  Life Sciences  Female          94        Sales Executive   \n",
       "1                 8  Life Sciences    Male          61     Research Scientist   \n",
       "2                 2          Other    Male          92  Laboratory Technician   \n",
       "3                 3  Life Sciences  Female          56     Research Scientist   \n",
       "4                 2        Medical    Male          40  Laboratory Technician   \n",
       "\n",
       "   ... OverTime  PercentSalaryHike  TotalWorkingYears  TrainingTimesLastYear  \\\n",
       "0  ...      Yes                 11                  8                      0   \n",
       "1  ...       No                 23                 10                      3   \n",
       "2  ...      Yes                 15                  7                      3   \n",
       "3  ...      Yes                 11                  8                      3   \n",
       "4  ...       No                 12                  6                      3   \n",
       "\n",
       "  YearsAtCompany  YearsInCurrentRole  YearsSinceLastPromotion  \\\n",
       "0              6                   4                        0   \n",
       "1             10                   7                        1   \n",
       "2              0                   0                        0   \n",
       "3              8                   7                        3   \n",
       "4              2                   2                        2   \n",
       "\n",
       "   YearsWithCurrManager  AgeBand  CompanyAgeBand  \n",
       "0                     5    41–50            0–10  \n",
       "1                     7    41–50            0–10  \n",
       "2                     0    31–40             NaN  \n",
       "3                     0    31–40            0–10  \n",
       "4                     2    18–30            0–10  \n",
       "\n",
       "[5 rows x 24 columns]"
      ]
     },
     "execution_count": 3,
     "metadata": {},
     "output_type": "execute_result"
    }
   ],
   "source": [
    "df.head()"
   ]
  },
  {
   "cell_type": "code",
   "execution_count": 4,
   "id": "f31de7bb-3c5e-448d-9f3a-267733f48a9c",
   "metadata": {},
   "outputs": [
    {
     "data": {
      "text/plain": [
       "Age                         0\n",
       "Attrition                   0\n",
       "BusinessTravel              0\n",
       "DailyRate                   0\n",
       "Department                  0\n",
       "DistanceFromHome            0\n",
       "EducationField              0\n",
       "Gender                      0\n",
       "HourlyRate                  0\n",
       "JobRole                     0\n",
       "MaritalStatus               0\n",
       "MonthlyIncome               0\n",
       "MonthlyRate                 0\n",
       "NumCompaniesWorked          0\n",
       "OverTime                    0\n",
       "PercentSalaryHike           0\n",
       "TotalWorkingYears           0\n",
       "TrainingTimesLastYear       0\n",
       "YearsAtCompany              0\n",
       "YearsInCurrentRole          0\n",
       "YearsSinceLastPromotion     0\n",
       "YearsWithCurrManager        0\n",
       "AgeBand                     8\n",
       "CompanyAgeBand             44\n",
       "dtype: int64"
      ]
     },
     "execution_count": 4,
     "metadata": {},
     "output_type": "execute_result"
    }
   ],
   "source": [
    "df.isnull().sum()"
   ]
  },
  {
   "cell_type": "markdown",
   "id": "ed8676b9-7171-4f89-9890-c5882e0f2636",
   "metadata": {},
   "source": [
    "The null values are because 0 is not included in bands\n",
    "- We will fill these values with 0"
   ]
  },
  {
   "cell_type": "code",
   "execution_count": 5,
   "id": "136041d8-3076-46d7-8d80-d41fed177f68",
   "metadata": {},
   "outputs": [],
   "source": [
    "df['AgeBand'] = df['AgeBand'].fillna(0)"
   ]
  },
  {
   "cell_type": "code",
   "execution_count": 6,
   "id": "5bc5f157-49f4-477f-87c8-83e5630cf210",
   "metadata": {},
   "outputs": [],
   "source": [
    "df['CompanyAgeBand']=df['CompanyAgeBand'].fillna(0)"
   ]
  },
  {
   "cell_type": "markdown",
   "id": "f404f978-27b4-4bda-a9ff-900993b93998",
   "metadata": {},
   "source": [
    "#### Age and YearsInCompany were used to create columns AgeBand and CompanyAgeBand\n",
    "- Keeping both is not necessary\n",
    "- We will keep bands for logistic regression as it works well with banded features (weighted columns)\n",
    "- We will keep numerical columns for Decision trees as it can work better on raw numerical data  \n",
    "We will create a different pipeline for each "
   ]
  },
  {
   "cell_type": "code",
   "execution_count": 7,
   "id": "46de4ce3-da50-4971-a472-f5f82960adb6",
   "metadata": {},
   "outputs": [
    {
     "name": "stdout",
     "output_type": "stream",
     "text": [
      "<class 'pandas.core.frame.DataFrame'>\n",
      "RangeIndex: 1470 entries, 0 to 1469\n",
      "Data columns (total 24 columns):\n",
      " #   Column                   Non-Null Count  Dtype \n",
      "---  ------                   --------------  ----- \n",
      " 0   Age                      1470 non-null   int64 \n",
      " 1   Attrition                1470 non-null   object\n",
      " 2   BusinessTravel           1470 non-null   object\n",
      " 3   DailyRate                1470 non-null   int64 \n",
      " 4   Department               1470 non-null   object\n",
      " 5   DistanceFromHome         1470 non-null   int64 \n",
      " 6   EducationField           1470 non-null   object\n",
      " 7   Gender                   1470 non-null   object\n",
      " 8   HourlyRate               1470 non-null   int64 \n",
      " 9   JobRole                  1470 non-null   object\n",
      " 10  MaritalStatus            1470 non-null   object\n",
      " 11  MonthlyIncome            1470 non-null   int64 \n",
      " 12  MonthlyRate              1470 non-null   int64 \n",
      " 13  NumCompaniesWorked       1470 non-null   int64 \n",
      " 14  OverTime                 1470 non-null   object\n",
      " 15  PercentSalaryHike        1470 non-null   int64 \n",
      " 16  TotalWorkingYears        1470 non-null   int64 \n",
      " 17  TrainingTimesLastYear    1470 non-null   int64 \n",
      " 18  YearsAtCompany           1470 non-null   int64 \n",
      " 19  YearsInCurrentRole       1470 non-null   int64 \n",
      " 20  YearsSinceLastPromotion  1470 non-null   int64 \n",
      " 21  YearsWithCurrManager     1470 non-null   int64 \n",
      " 22  AgeBand                  1470 non-null   object\n",
      " 23  CompanyAgeBand           1470 non-null   object\n",
      "dtypes: int64(14), object(10)\n",
      "memory usage: 275.8+ KB\n"
     ]
    }
   ],
   "source": [
    "df.info()"
   ]
  },
  {
   "cell_type": "code",
   "execution_count": 8,
   "id": "9e6bc57d-93c0-42a4-9881-a1d21c62c336",
   "metadata": {},
   "outputs": [],
   "source": [
    "# Replace en dash (–) with hyphen-minus (-) in all band columns\n",
    "df['AgeBand'] = df['AgeBand'].astype(str).str.replace('–', '-', regex=False)\n",
    "df['CompanyAgeBand'] = df['CompanyAgeBand'].astype(str).str.replace('–', '-', regex=False)\n",
    "\n",
    "# Convert integer 0 to string '0' in both columns (so types match)\n",
    "df['AgeBand'] = df['AgeBand'].astype(str)\n",
    "df['CompanyAgeBand'] = df['CompanyAgeBand'].astype(str)"
   ]
  },
  {
   "cell_type": "code",
   "execution_count": 9,
   "id": "4bb2e071-82ac-4e54-8ad0-4991f444e5e9",
   "metadata": {},
   "outputs": [
    {
     "data": {
      "text/plain": [
       "array(['Travel_Rarely', 'Travel_Frequently', 'Non-Travel'], dtype=object)"
      ]
     },
     "execution_count": 9,
     "metadata": {},
     "output_type": "execute_result"
    }
   ],
   "source": [
    "df['BusinessTravel'].unique()"
   ]
  },
  {
   "cell_type": "markdown",
   "id": "9e1eca33-85e3-4060-88a8-54661e75013c",
   "metadata": {},
   "source": [
    "#### Ordinal data\n",
    "- Non-Travel: 0\n",
    "- Travel_Rarely: 1\n",
    "- Travel_Frequently: 2"
   ]
  },
  {
   "cell_type": "code",
   "execution_count": 10,
   "id": "8e37e4c0-872f-4c50-9d91-0ca48372927f",
   "metadata": {},
   "outputs": [
    {
     "data": {
      "text/plain": [
       "array(['41-50', '31-40', '18-30', '51-60', '0'], dtype=object)"
      ]
     },
     "execution_count": 10,
     "metadata": {},
     "output_type": "execute_result"
    }
   ],
   "source": [
    "df['AgeBand'].unique()"
   ]
  },
  {
   "cell_type": "markdown",
   "id": "b6c237f3-8500-4ee9-9baf-3d3e509e88ce",
   "metadata": {},
   "source": [
    "#### Ordinal data\n",
    "- 0: 0\n",
    "- 18-30: 1\n",
    "- 31-40: 2\n",
    "- 41-50: 3\n",
    "- 51-60: 4"
   ]
  },
  {
   "cell_type": "code",
   "execution_count": 11,
   "id": "dcd3319a-0cb3-4a1c-af9f-be904f8a7fa7",
   "metadata": {},
   "outputs": [
    {
     "data": {
      "text/plain": [
       "array(['0-10', '0', '21-30', '11-20', '31-40'], dtype=object)"
      ]
     },
     "execution_count": 11,
     "metadata": {},
     "output_type": "execute_result"
    }
   ],
   "source": [
    "df['CompanyAgeBand'].unique()"
   ]
  },
  {
   "cell_type": "markdown",
   "id": "1a6c2a4a-aec9-4058-aac9-ca5f9d70666c",
   "metadata": {},
   "source": [
    "#### Ordinal data\n",
    "- 0: 0\n",
    "- 0-10: 1\n",
    "- 11-20: 2\n",
    "- 21-30: 3\n",
    "- 31-40: 4"
   ]
  },
  {
   "cell_type": "code",
   "execution_count": 12,
   "id": "23b8577e-3acf-4437-8ec8-ea96e6e097dd",
   "metadata": {},
   "outputs": [
    {
     "data": {
      "text/plain": [
       "array(['Sales', 'Research & Development', 'Human Resources'], dtype=object)"
      ]
     },
     "execution_count": 12,
     "metadata": {},
     "output_type": "execute_result"
    }
   ],
   "source": [
    "df['Department'].unique()"
   ]
  },
  {
   "cell_type": "markdown",
   "id": "5c5898f3-8039-4a07-ab43-09b38540fcd8",
   "metadata": {},
   "source": [
    "#### Nominal data"
   ]
  },
  {
   "cell_type": "code",
   "execution_count": 13,
   "id": "7c2af03a-c12c-430b-ad19-0e46a62e73fd",
   "metadata": {},
   "outputs": [
    {
     "data": {
      "text/plain": [
       "array(['Life Sciences', 'Other', 'Medical', 'Marketing',\n",
       "       'Technical Degree', 'Human Resources'], dtype=object)"
      ]
     },
     "execution_count": 13,
     "metadata": {},
     "output_type": "execute_result"
    }
   ],
   "source": [
    "df['EducationField'].unique()"
   ]
  },
  {
   "cell_type": "markdown",
   "id": "d0cadada-74d1-473e-a4d1-055c6bc9d380",
   "metadata": {},
   "source": [
    "#### Nominal data"
   ]
  },
  {
   "cell_type": "code",
   "execution_count": 14,
   "id": "2f8a6dac-bc10-43d0-b00b-aff764f79fa1",
   "metadata": {},
   "outputs": [
    {
     "data": {
      "text/plain": [
       "array(['Female', 'Male'], dtype=object)"
      ]
     },
     "execution_count": 14,
     "metadata": {},
     "output_type": "execute_result"
    }
   ],
   "source": [
    "df['Gender'].unique()"
   ]
  },
  {
   "cell_type": "markdown",
   "id": "f7cb7345-18bc-4445-ba3a-ed33f6519a97",
   "metadata": {},
   "source": [
    "#### Nominal data"
   ]
  },
  {
   "cell_type": "code",
   "execution_count": 15,
   "id": "fb820e01-5666-493a-b08d-49abd5a290d8",
   "metadata": {},
   "outputs": [
    {
     "data": {
      "text/plain": [
       "array(['Sales Executive', 'Research Scientist', 'Laboratory Technician',\n",
       "       'Manufacturing Director', 'Healthcare Representative', 'Manager',\n",
       "       'Sales Representative', 'Research Director', 'Human Resources'],\n",
       "      dtype=object)"
      ]
     },
     "execution_count": 15,
     "metadata": {},
     "output_type": "execute_result"
    }
   ],
   "source": [
    "df['JobRole'].unique()"
   ]
  },
  {
   "cell_type": "markdown",
   "id": "b676650d-654d-4aad-afae-8ee48ee714f5",
   "metadata": {},
   "source": [
    "#### Nominal data"
   ]
  },
  {
   "cell_type": "code",
   "execution_count": 16,
   "id": "066fd557-4524-4937-92a4-639b3a204bca",
   "metadata": {},
   "outputs": [
    {
     "data": {
      "text/plain": [
       "array(['Single', 'Married', 'Divorced'], dtype=object)"
      ]
     },
     "execution_count": 16,
     "metadata": {},
     "output_type": "execute_result"
    }
   ],
   "source": [
    "df['MaritalStatus'].unique()"
   ]
  },
  {
   "cell_type": "markdown",
   "id": "0c9150af-dcf5-40e4-96f6-546219a92617",
   "metadata": {},
   "source": [
    "#### Nominal data"
   ]
  },
  {
   "cell_type": "code",
   "execution_count": 17,
   "id": "b2caabcf-0f1e-4ae7-a6e9-8582f3ebddbf",
   "metadata": {},
   "outputs": [
    {
     "data": {
      "text/plain": [
       "array(['Yes', 'No'], dtype=object)"
      ]
     },
     "execution_count": 17,
     "metadata": {},
     "output_type": "execute_result"
    }
   ],
   "source": [
    "df['OverTime'].unique()"
   ]
  },
  {
   "cell_type": "markdown",
   "id": "20f3351e-8c66-4930-ae85-74f98eea7f4a",
   "metadata": {},
   "source": [
    "#### Nominal data"
   ]
  },
  {
   "cell_type": "code",
   "execution_count": 18,
   "id": "73085d85-dbc7-4a48-a6c5-899a8a4f2a13",
   "metadata": {},
   "outputs": [
    {
     "data": {
      "text/plain": [
       "array(['Yes', 'No'], dtype=object)"
      ]
     },
     "execution_count": 18,
     "metadata": {},
     "output_type": "execute_result"
    }
   ],
   "source": [
    "df['Attrition'].unique()"
   ]
  },
  {
   "cell_type": "markdown",
   "id": "3be618d1-4040-4d01-99ba-0c707efcb572",
   "metadata": {},
   "source": [
    "#### Nominal data (Label Encoding)\n",
    "We will apply label encoding for target variable"
   ]
  },
  {
   "cell_type": "code",
   "execution_count": 19,
   "id": "1fcb50b9-42df-4646-ac3c-14ebaa22ccfb",
   "metadata": {},
   "outputs": [],
   "source": [
    "df['Attrition'] = df['Attrition'].map({'Yes': 1, 'No': 0})"
   ]
  },
  {
   "cell_type": "markdown",
   "id": "764a532c-69e5-40e3-96d5-6e771e23bfcc",
   "metadata": {},
   "source": [
    "# Train-Test Split"
   ]
  },
  {
   "cell_type": "code",
   "execution_count": 20,
   "id": "5d4faa40-6352-4f86-ae99-2188376acc30",
   "metadata": {},
   "outputs": [],
   "source": [
    "# Raw numeric version (for tree-based model)\n",
    "X_tree = df.drop(['Attrition', 'AgeBand', 'CompanyAgeBand'], axis=1)\n",
    "# Binned version (for logistic regression)\n",
    "X_logit = df.drop(['Attrition', 'Age', 'YearsAtCompany'], axis=1)\n",
    "\n",
    "y = df['Attrition']"
   ]
  },
  {
   "cell_type": "code",
   "execution_count": 21,
   "id": "e4f95186-bb0d-4273-a3a1-80e80118bef3",
   "metadata": {},
   "outputs": [],
   "source": [
    "# For Decision Tree\n",
    "X_tree_train, X_tree_test, y_tree_train, y_tree_test = train_test_split(\n",
    "    X_tree, y, test_size=0.2)\n",
    "\n",
    "# For Logistic Regression\n",
    "X_logit_train, X_logit_test, y_logit_train, y_logit_test = train_test_split(\n",
    "    X_logit, y, test_size=0.2)"
   ]
  },
  {
   "cell_type": "markdown",
   "id": "974829f5-6b94-4fb0-ac1e-697cec067fab",
   "metadata": {},
   "source": [
    "## Column Encoding types and Pipeline"
   ]
  },
  {
   "cell_type": "code",
   "execution_count": 22,
   "id": "c41a677b-7ebb-4fdd-af59-6176e5a6963a",
   "metadata": {},
   "outputs": [],
   "source": [
    "def get_column_types(df):\n",
    "    num_cols = df.select_dtypes(include=['int64', 'float64']).columns.tolist()\n",
    "    cat_cols = df.select_dtypes(include='object').columns.tolist()\n",
    "    return num_cols, cat_cols"
   ]
  },
  {
   "cell_type": "code",
   "execution_count": 23,
   "id": "55575774-07e1-405a-b025-15c7529ed673",
   "metadata": {},
   "outputs": [],
   "source": [
    "# For Logistic Regression\n",
    "num_cols_logit, cat_cols_logit = get_column_types(X_logit_train)\n",
    "ordinal_cols_logit = ['BusinessTravel', 'AgeBand', 'CompanyAgeBand']\n",
    "nominal_cols_logit = list(set(cat_cols_logit) - set(ordinal_cols_logit))"
   ]
  },
  {
   "cell_type": "code",
   "execution_count": 24,
   "id": "fb01579e-181c-46c1-9d78-6ced7201decd",
   "metadata": {},
   "outputs": [],
   "source": [
    "#For Decision Tree\n",
    "num_cols_tree, cat_cols_tree = get_column_types(X_tree_train)\n",
    "ordinal_cols_tree = ['BusinessTravel']\n",
    "nominal_cols_tree = list(set(cat_cols_tree) - set(ordinal_cols_tree))"
   ]
  },
  {
   "cell_type": "code",
   "execution_count": 25,
   "id": "a008c495-bb71-4af8-aba8-c8fcc3ee3479",
   "metadata": {},
   "outputs": [],
   "source": [
    "# Shared Pipeline\n",
    "numerical_pipeline = SimpleImputer(strategy='mean')"
   ]
  },
  {
   "cell_type": "code",
   "execution_count": 26,
   "id": "30cc55c9-8887-4115-8886-67bf507987be",
   "metadata": {},
   "outputs": [],
   "source": [
    "ordinal_pipeline_logit = Pipeline(steps=[\n",
    "    ('imputer', SimpleImputer(strategy='most_frequent')),\n",
    "    ('encoder', OrdinalEncoder(categories=[\n",
    "        ['Non-Travel', 'Travel_Rarely', 'Travel_Frequently'],  # BusinessTravel\n",
    "        ['0', '18-30', '31-40', '41-50', '51-60'],             # AgeBand\n",
    "        ['0', '0-10', '11-20', '21-30', '31-40']               # CompanyAgeBand\n",
    "    ]))\n",
    "])\n",
    "\n",
    "ordinal_pipeline_tree = Pipeline(steps=[\n",
    "    ('imputer', SimpleImputer(strategy='most_frequent')),\n",
    "    ('encoder', OrdinalEncoder(categories=[\n",
    "        ['Non-Travel', 'Travel_Rarely', 'Travel_Frequently']   # Only BusinessTravel\n",
    "    ]))\n",
    "])"
   ]
  },
  {
   "cell_type": "code",
   "execution_count": 27,
   "id": "b3368589-2dbf-467b-94dc-fb92b0005c11",
   "metadata": {},
   "outputs": [],
   "source": [
    "nominal_pipeline = Pipeline(steps=[\n",
    "    ('imputer', SimpleImputer(strategy='most_frequent')),\n",
    "    ('encoder', OneHotEncoder(handle_unknown='ignore'))\n",
    "])"
   ]
  },
  {
   "cell_type": "markdown",
   "id": "65d2d89d-6b22-42bc-82f8-9a132eb71006",
   "metadata": {},
   "source": [
    "## Preprocessors"
   ]
  },
  {
   "cell_type": "code",
   "execution_count": 28,
   "id": "a2212805-73a0-409f-b580-ecc237392c0d",
   "metadata": {},
   "outputs": [],
   "source": [
    "# Logistic Regression Preprocessor\n",
    "preprocessor_logit = ColumnTransformer(transformers=[\n",
    "    ('num', numerical_pipeline, num_cols_logit),\n",
    "    ('ord', ordinal_pipeline_logit, ordinal_cols_logit),\n",
    "    ('nom', nominal_pipeline, nominal_cols_logit)\n",
    "])\n",
    "\n",
    "# Decision Tree Preprocessor\n",
    "preprocessor_tree = ColumnTransformer(transformers=[\n",
    "    ('num', numerical_pipeline, num_cols_tree),\n",
    "    ('ord', ordinal_pipeline_tree, ordinal_cols_tree),\n",
    "    ('nom', nominal_pipeline, nominal_cols_tree)\n",
    "])"
   ]
  },
  {
   "cell_type": "markdown",
   "id": "4ad8f532-0382-4d10-adc6-a6bde82989e4",
   "metadata": {},
   "source": [
    "# 🌟 Model Fitting & Evaluation"
   ]
  },
  {
   "cell_type": "markdown",
   "id": "9d1f09af-5d17-475b-bbf2-e19d7ca48ef4",
   "metadata": {},
   "source": [
    "## 🔶 Logistic Regression"
   ]
  },
  {
   "cell_type": "code",
   "execution_count": 29,
   "id": "49d7dec5-8740-47db-8566-e80cc011fdc4",
   "metadata": {
    "scrolled": true
   },
   "outputs": [
    {
     "name": "stdout",
     "output_type": "stream",
     "text": [
      "🔶 Logistic Regression Accuracy: 0.8401360544217688\n",
      "📊 Classification Report:\n",
      "               precision    recall  f1-score   support\n",
      "\n",
      "           0       0.85      0.99      0.91       245\n",
      "           1       0.62      0.10      0.18        49\n",
      "\n",
      "    accuracy                           0.84       294\n",
      "   macro avg       0.74      0.54      0.54       294\n",
      "weighted avg       0.81      0.84      0.79       294\n",
      "\n"
     ]
    }
   ],
   "source": [
    "logit_pipeline = Pipeline(steps=[\n",
    "    ('preprocessor', preprocessor_logit),\n",
    "    ('classifier', LogisticRegression(max_iter=1000))\n",
    "])\n",
    "\n",
    "logit_pipeline.fit(X_logit_train, y_logit_train)\n",
    "y_logit_pred = logit_pipeline.predict(X_logit_test)\n",
    "\n",
    "print(\"🔶 Logistic Regression Accuracy:\", accuracy_score(y_logit_test, y_logit_pred))\n",
    "print(\"📊 Classification Report:\\n\", classification_report(y_logit_test, y_logit_pred))"
   ]
  },
  {
   "cell_type": "markdown",
   "id": "5e1b4272-be50-4df5-884c-31eea4d38279",
   "metadata": {},
   "source": [
    "# 🔷 Decision Tree "
   ]
  },
  {
   "cell_type": "code",
   "execution_count": 30,
   "id": "e112e235-4cb0-4a89-8163-c4523e56d634",
   "metadata": {},
   "outputs": [
    {
     "name": "stdout",
     "output_type": "stream",
     "text": [
      "🌳 Decision Tree Accuracy: 0.8401360544217688\n",
      "📊 Classification Report:\n",
      "               precision    recall  f1-score   support\n",
      "\n",
      "           0       0.86      0.97      0.91       246\n",
      "           1       0.53      0.19      0.28        48\n",
      "\n",
      "    accuracy                           0.84       294\n",
      "   macro avg       0.69      0.58      0.59       294\n",
      "weighted avg       0.81      0.84      0.81       294\n",
      "\n"
     ]
    }
   ],
   "source": [
    "tree_pipeline = Pipeline(steps=[\n",
    "    ('preprocessor', preprocessor_tree),\n",
    "    ('classifier', DecisionTreeClassifier(max_depth=5, random_state=42))\n",
    "])\n",
    "\n",
    "tree_pipeline.fit(X_tree_train, y_tree_train)\n",
    "y_tree_pred = tree_pipeline.predict(X_tree_test)\n",
    "\n",
    "print(\"🌳 Decision Tree Accuracy:\", accuracy_score(y_tree_test, y_tree_pred))\n",
    "print(\"📊 Classification Report:\\n\", classification_report(y_tree_test, y_tree_pred))"
   ]
  },
  {
   "cell_type": "markdown",
   "id": "93d71006-9933-4fce-af8b-5bd6db69e454",
   "metadata": {},
   "source": [
    "# Confusion Matrix"
   ]
  },
  {
   "cell_type": "markdown",
   "id": "676a946a-4f6c-45d5-a249-42baa5e0113a",
   "metadata": {},
   "source": [
    "### Logistic Regression"
   ]
  },
  {
   "cell_type": "code",
   "execution_count": 31,
   "id": "4c008469-bd6e-476c-b553-980f2167b931",
   "metadata": {},
   "outputs": [
    {
     "data": {
      "image/png": "[encoded data removed]",
      "text/plain": [
       "<Figure size 640x480 with 2 Axes>"
      ]
     },
     "metadata": {},
     "output_type": "display_data"
    }
   ],
   "source": [
    "cm_logit = confusion_matrix(y_logit_test, y_logit_pred)\n",
    "disp_logit = ConfusionMatrixDisplay(confusion_matrix=cm_logit, display_labels=['No', 'Yes'])\n",
    "disp_logit.plot(cmap='Blues')\n",
    "plt.title(\"Logistic Regression - Confusion Matrix\")\n",
    "plt.show()"
   ]
  },
  {
   "cell_type": "markdown",
   "id": "09ed8b3e-be2e-4930-89a3-896733db7fe5",
   "metadata": {},
   "source": [
    "#### Insights\n",
    "- The model works well with prediction No attrition (good performance with True-Negative values)\n",
    "- The model does not perform so well when predicting Attirion True values (higher number of False-Negative values)"
   ]
  },
  {
   "cell_type": "markdown",
   "id": "532fbc58-7cc3-4b9e-b757-6ec10624c177",
   "metadata": {},
   "source": [
    "### Decision Tree"
   ]
  },
  {
   "cell_type": "code",
   "execution_count": 32,
   "id": "06adb065-9f93-47b3-865a-c71d39fa463c",
   "metadata": {},
   "outputs": [
    {
     "data": {
      "image/png": "[encoded data removed]",
      "text/plain": [
       "<Figure size 640x480 with 2 Axes>"
      ]
     },
     "metadata": {},
     "output_type": "display_data"
    }
   ],
   "source": [
    "cm_tree = confusion_matrix(y_tree_test, y_tree_pred)\n",
    "disp_tree = ConfusionMatrixDisplay(confusion_matrix=cm_tree, display_labels=['No', 'Yes'])\n",
    "disp_tree.plot(cmap='Greens')\n",
    "plt.title(\"🌳 Decision Tree - Confusion Matrix\")\n",
    "plt.show()"
   ]
  },
  {
   "cell_type": "markdown",
   "id": "d340abce-305e-43bb-9926-7786658ec83a",
   "metadata": {},
   "source": [
    "#### Insights\n",
    "- We can see that Decision Tree works worse than Logistic Regression as it has higher number of FN and FP values"
   ]
  },
  {
   "cell_type": "markdown",
   "id": "ac409aaf-a012-4f4b-82f6-bb756bfb9872",
   "metadata": {},
   "source": [
    "# Model Comparison"
   ]
  },
  {
   "cell_type": "code",
   "execution_count": 33,
   "id": "27448dcd-aacf-4542-a35d-bc385ab6d5e2",
   "metadata": {},
   "outputs": [
    {
     "name": "stdout",
     "output_type": "stream",
     "text": [
      "📊 Logistic Regression Performance\n",
      "Accuracy: 0.8401360544217688\n",
      "Precision: 0.625\n",
      "Recall: 0.10204081632653061\n",
      "F1 Score: 0.17543859649122806\n",
      "--------------------------------------------------\n",
      "📊 Decision Tree Performance\n",
      "Accuracy: 0.8401360544217688\n",
      "Precision: 0.5294117647058824\n",
      "Recall: 0.1875\n",
      "F1 Score: 0.27692307692307694\n",
      "--------------------------------------------------\n"
     ]
    }
   ],
   "source": [
    "def print_metrics(name, y_test, y_pred):\n",
    "    print(f\"📊 {name} Performance\")\n",
    "    print(\"Accuracy:\", accuracy_score(y_test, y_pred))\n",
    "    print(\"Precision:\", precision_score(y_test, y_pred))\n",
    "    print(\"Recall:\", recall_score(y_test, y_pred))\n",
    "    print(\"F1 Score:\", f1_score(y_test, y_pred))\n",
    "    print(\"-\" * 50)\n",
    "\n",
    "print_metrics(\"Logistic Regression\", y_logit_test, y_logit_pred)\n",
    "print_metrics(\"Decision Tree\", y_tree_test, y_tree_pred)"
   ]
  },
  {
   "cell_type": "markdown",
   "id": "b4d5d807-7d95-47bd-9855-ed73d8dd2382",
   "metadata": {},
   "source": [
    "### Insights\n",
    "#### Logistic Regression:\n",
    "- More precise: When it predicts someone will leave, it’s usually correct.\n",
    "- But misses many actual leavers (low recall = only 24% captured).\n",
    "- This model is cautious — it avoids false alarms but fails to catch many true cases.\n",
    "- Suggested for Minimizing false alarms\n",
    "#### Decision Tree\n",
    "- More balanced: Slightly better recall, slightly higher F1 score.\n",
    "- But lower precision: It makes more false attrition predictions than Logistic Regression.\n",
    "- This model is more aggressive in flagging attrition but takes more risk.\n",
    "- Suggested for Catching more attrition cases"
   ]
  },
  {
   "cell_type": "markdown",
   "id": "94a1f7ab-7495-4a7c-a956-6b64bf0e4ab7",
   "metadata": {},
   "source": [
    "# SHAP Values"
   ]
  },
  {
   "cell_type": "markdown",
   "id": "eacad3d1-52cf-4e32-8549-f6f728d52908",
   "metadata": {},
   "source": [
    "## Logistic Regression"
   ]
  },
  {
   "cell_type": "code",
   "execution_count": 34,
   "id": "de86961d-19c2-406c-b38f-c390efa4f482",
   "metadata": {},
   "outputs": [],
   "source": [
    "X_logit_processed = preprocessor_logit.fit_transform(X_logit_train)"
   ]
  },
  {
   "cell_type": "code",
   "execution_count": 35,
   "id": "7fd415b1-0f5f-4ae6-99fc-16563669f778",
   "metadata": {},
   "outputs": [],
   "source": [
    "#Get feature names after one-hot + ordinal encoding\n",
    "feature_names = (\n",
    "    preprocessor_logit.transformers_[0][2] +                     # numeric columns\n",
    "    ordinal_cols_logit +                                        # ordinal\n",
    "    list(preprocessor_logit.transformers_[2][1].named_steps['encoder'].get_feature_names_out(nominal_cols_logit))  # nominal one-hot\n",
    ")"
   ]
  },
  {
   "cell_type": "code",
   "execution_count": 36,
   "id": "c5321c2c-6185-4f7b-96be-7ef9507e4bc9",
   "metadata": {},
   "outputs": [],
   "source": [
    "#Explainer + SHAP values\n",
    "explainer = shap.Explainer(logit_pipeline.named_steps['classifier'], X_logit_processed, feature_names=feature_names)\n",
    "shap_values_logit = explainer(X_logit_processed)"
   ]
  },
  {
   "cell_type": "code",
   "execution_count": 37,
   "id": "87be7332-b417-4160-9a91-19d2409d724b",
   "metadata": {},
   "outputs": [
    {
     "data": {
      "image/png": "[encoded data removed]",
      "text/plain": [
       "<Figure size 800x550 with 2 Axes>"
      ]
     },
     "metadata": {},
     "output_type": "display_data"
    }
   ],
   "source": [
    "#Summary plot\n",
    "shap.plots.beeswarm(shap_values_logit)"
   ]
  },
  {
   "cell_type": "markdown",
   "id": "bb27c98a-48bf-4dea-b596-4f8941a9c196",
   "metadata": {},
   "source": [
    "#### Insights\n",
    "- Lack of promotions, low role tenure, and low manager stability are strong predictors of attrition.\n",
    "- Overtime and low pay are clear stressors.\n",
    "- Employees early in their careers (younger age bands) are more likely to leave — common across industries.\n",
    "- Training may correlate with ambition — but too much without reward could backfire."
   ]
  },
  {
   "cell_type": "markdown",
   "id": "7e12c677-fd60-4680-8b0a-db890a6fb867",
   "metadata": {},
   "source": [
    "## Decision Tree"
   ]
  },
  {
   "cell_type": "code",
   "execution_count": 39,
   "id": "6d23d152-02ca-4c02-9c8d-9438b82a96b5",
   "metadata": {},
   "outputs": [
    {
     "data": {
      "image/png": "[encoded data removed]",
      "text/plain": [
       "<Figure size 800x550 with 2 Axes>"
      ]
     },
     "metadata": {},
     "output_type": "display_data"
    }
   ],
   "source": [
    "model_tree = tree_pipeline.named_steps['classifier']\n",
    "X_tree_raw = preprocessor_tree.transform(X_tree_train)\n",
    "X_tree_df = pd.DataFrame(X_tree_raw, columns=feature_names)\n",
    "explainer = shap.Explainer(model_tree, X_tree_df)\n",
    "shap_values_tree = explainer(X_tree_df)\n",
    "\n",
    "shap.plots.beeswarm(shap_values_tree[..., 1]) "
   ]
  },
  {
   "cell_type": "markdown",
   "id": "500655e6-820f-4010-bad1-43caf7931acf",
   "metadata": {},
   "source": [
    "#### Insights\n",
    "- Factors like Higher Monthly Income, More experience (TotalWorkingYears), Being older, staying longer reduce chances of attrition significantly.\n",
    "- Employees who have been with the organization longer and are older are less likely to resign. This aligns with the idea that longer tenure reflects stronger bonds with teams, culture, stability and company mission.\n",
    "- Younger employees, new joiners with short tenure, and those with a history of frequent job changes are more likely to leave. These individuals may be in exploratory phases of their careers, seeking faster growth or more aligned roles.\n",
    "- Employees working overtime and those in high-stress roles like Sales Executive face higher attrition risk. Long hours and demanding performance expectations can lead to burnout or dissatisfaction.\n",
    "- Single employees and those earning lower salaries are more likely to resign. These factors may reflect greater personal flexibility, mobility, or financial dissatisfaction. Ensuring equitable compensation, offering financial growth pathways, and building inclusive engagement strategies for diverse life situations can help improve retention in this group."
   ]
  },
  {
   "cell_type": "markdown",
   "id": "b10f072a-36b0-4699-887e-587d1a03232b",
   "metadata": {},
   "source": [
    "## Conclusion\n",
    "- Both models agree on major drivers like overtime, income, tenure, and age.\n",
    "- The Decision Tree captures nonlinear interactions, picking up job history and role-specific nuances."
   ]
  },
  {
   "cell_type": "code",
   "execution_count": 40,
   "id": "ca962f4b-2ce2-4806-a784-d41da0127497",
   "metadata": {},
   "outputs": [],
   "source": [
    "#Saving Confusion Matrix\n",
    "# Logistic\n",
    "ConfusionMatrixDisplay.from_estimator(logit_pipeline, X_logit_test, y_logit_test,\n",
    "                                      display_labels=[\"No\", \"Yes\"],\n",
    "                                      cmap='Blues')\n",
    "plt.title(\"Logistic Regression - Confusion Matrix\")\n",
    "plt.savefig(\"logistic_confusion_matrix.png\", dpi=300, bbox_inches='tight')\n",
    "plt.close()\n",
    "\n",
    "# Decision Tree\n",
    "ConfusionMatrixDisplay.from_estimator(tree_pipeline, X_tree_test, y_tree_test,\n",
    "                                      display_labels=[\"No\", \"Yes\"],\n",
    "                                      cmap='Greens')\n",
    "plt.title(\"Decision Tree - Confusion Matrix\")\n",
    "plt.savefig(\"tree_confusion_matrix.png\", dpi=300, bbox_inches='tight')\n",
    "plt.close()"
   ]
  },
  {
   "cell_type": "code",
   "execution_count": 41,
   "id": "9527cf67-3394-4386-a9c6-319c67b5f376",
   "metadata": {},
   "outputs": [],
   "source": [
    "# Saving Classification Report\n",
    "logit_report = classification_report(y_logit_test, y_logit_pred, target_names=['No', 'Yes'])\n",
    "tree_report = classification_report(y_tree_test, y_tree_pred, target_names=['No', 'Yes'])\n",
    "\n",
    "# Save to text file\n",
    "with open(\"classification_reports.txt\", \"w\") as f:\n",
    "    f.write(\"Logistic Regression Report:\\n\")\n",
    "    f.write(logit_report + \"\\n\\n\")\n",
    "    f.write(\"Decision Tree Report:\\n\")\n",
    "    f.write(tree_report)"
   ]
  },
  {
   "cell_type": "code",
   "execution_count": 42,
   "id": "3540aa8e-7ede-4dbe-a775-69abcd3b96d2",
   "metadata": {},
   "outputs": [],
   "source": [
    "# Saving SHAP Summary\n",
    "# Logistic\n",
    "shap.plots.beeswarm(shap_values_logit, show=False)\n",
    "plt.title(\"Logistic Regression - SHAP Summary\")\n",
    "plt.savefig(\"logistic_shap_summary.png\", dpi=300, bbox_inches='tight')\n",
    "plt.close()\n",
    "\n",
    "# Decision Tree\n",
    "shap.plots.beeswarm(shap_values_tree[..., 1], show=False)\n",
    "plt.title(\"Decision Tree - SHAP Summary\")\n",
    "plt.savefig(\"tree_shap_summary.png\", dpi=300, bbox_inches='tight')\n",
    "plt.close()"
   ]
  }
 ],
 "metadata": {
  "kernelspec": {
   "display_name": "Python 3 (ipykernel)",
   "language": "python",
   "name": "python3"
  },
  "language_info": {
   "codemirror_mode": {
    "name": "ipython",
    "version": 3
   },
   "file_extension": ".py",
   "mimetype": "text/x-python",
   "name": "python",
   "nbconvert_exporter": "python",
   "pygments_lexer": "ipython3",
   "version": "3.11.3"
  }
 },
 "nbformat": 4,
 "nbformat_minor": 5
}
